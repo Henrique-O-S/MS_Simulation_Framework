{
 "cells": [
  {
   "cell_type": "code",
   "execution_count": 1,
   "metadata": {},
   "outputs": [],
   "source": [
    "import csv\n",
    "import os\n",
    "import random\n",
    "\n",
    "import numpy as np\n",
    "import matplotlib.pyplot as plt\n",
    "\n",
    "from models.region import Region\n",
    "from models.car import CarModel"
   ]
  },
  {
   "cell_type": "code",
   "execution_count": 2,
   "metadata": {},
   "outputs": [],
   "source": [
    "def read_car_csv(filename, cars):\n",
    "    with open(filename, \"r\") as csvfile:\n",
    "        reader = csv.reader(csvfile, delimiter=\";\")\n",
    "        next(reader)  \n",
    "        for row in reader:\n",
    "            car_id, autonomy, price = row\n",
    "            autonomy = int(autonomy)\n",
    "            price = int(price)\n",
    "            cars.append(CarModel(car_id, autonomy, price))"
   ]
  },
  {
   "cell_type": "code",
   "execution_count": 6,
   "metadata": {},
   "outputs": [],
   "source": [
    "def read_region_csv(filename, regions):\n",
    "    with open(filename, \"r\") as csvfile:\n",
    "        reader = csv.reader(csvfile, delimiter=\";\")\n",
    "        next(reader)  \n",
    "        for row in reader:\n",
    "            region_id, latitude, longitude, avg_pop, driving_perc, avg_m_inc, chargers = row\n",
    "            latitude = float(latitude.replace(\",\", \".\"))\n",
    "            longitude = float(longitude.replace(\",\", \".\"))\n",
    "            avg_pop = int(avg_pop)\n",
    "            driving_perc = float(driving_perc.replace(\",\", \".\"))\n",
    "            avg_m_inc = float(avg_m_inc.replace(\",\", \".\"))\n",
    "            chargers = int(chargers)\n",
    "            regions.append(Region(region_id, latitude, longitude, int(avg_pop * driving_perc), avg_m_inc, chargers))"
   ]
  },
  {
   "cell_type": "code",
   "execution_count": 4,
   "metadata": {},
   "outputs": [],
   "source": [
    "regions = []\n",
    "carModels = []\n",
    "\n",
    "region_file = \"data/regions.csv\"\n",
    "car_file = \"data/cars.csv\""
   ]
  },
  {
   "cell_type": "code",
   "execution_count": null,
   "metadata": {},
   "outputs": [],
   "source": [
    "if os.path.exists(region_file):\n",
    "    read_region_csv(region_file, regions)\n",
    "\n",
    "if os.path.exists(car_file):\n",
    "    read_car_csv(car_file, carModels)"
   ]
  },
  {
   "cell_type": "code",
   "execution_count": 8,
   "metadata": {},
   "outputs": [],
   "source": [
    "salaryFluctuation = 0.325\n",
    "percWillingToSpend = 0.15\n",
    "probabilityOfBuying = 0.3"
   ]
  },
  {
   "cell_type": "code",
   "execution_count": 9,
   "metadata": {},
   "outputs": [],
   "source": [
    "def generate_income(avg_income):\n",
    "    sigma = np.sqrt(np.log(1 + (salaryFluctuation ** 2)))\n",
    "    mu = np.log(avg_income) - (sigma**2 / 2)\n",
    "    \n",
    "    return np.random.lognormal(mu, sigma)"
   ]
  },
  {
   "cell_type": "code",
   "execution_count": 10,
   "metadata": {},
   "outputs": [],
   "source": [
    "def affordable_cars(income):\n",
    "    affordable = []\n",
    "    for car in carModels:\n",
    "        if car.price <= income * percWillingToSpend:\n",
    "            affordable.append(car)\n",
    "    return affordable"
   ]
  },
  {
   "cell_type": "code",
   "execution_count": 11,
   "metadata": {},
   "outputs": [],
   "source": [
    "def simulate_region(region):\n",
    "    avg_income = region.avg_income\n",
    "    \n",
    "    results = {car: 0 for car in carModels}\n",
    "    \n",
    "    for _ in range(region.avg_drivers):\n",
    "        income = generate_income(avg_income)\n",
    "        affordable = affordable_cars(income)\n",
    "        \n",
    "        if affordable and random.random() < probabilityOfBuying:\n",
    "            chosen_car = random.choice(affordable)\n",
    "            results[chosen_car] += 1\n",
    "    \n",
    "    return results"
   ]
  },
  {
   "cell_type": "code",
   "execution_count": 36,
   "metadata": {},
   "outputs": [],
   "source": [
    "def plot_car_distribution(all_results):\n",
    "    for region_id, region_result in all_results.items():\n",
    "        car_ids = [str(car.id) for car in region_result.keys()]\n",
    "        totals = list(region_result.values())\n",
    "        \n",
    "        plt.figure(figsize=(10, 4))\n",
    "        bars = plt.bar(car_ids, totals, color=['blue', 'green', 'red', 'cyan', 'magenta', 'yellow'])\n",
    "        plt.xlabel('Car Model')\n",
    "        plt.ylabel('Number of Cars Sold')\n",
    "        plt.title(f'Total Electric Cars Sold in {region_id}')\n",
    "        plt.xticks(rotation=45)\n",
    "        plt.tight_layout()\n",
    "        \n",
    "        for bar in bars:\n",
    "            height = bar.get_height()\n",
    "            plt.text(bar.get_x() + bar.get_width() / 2, height, f'{height}', \n",
    "                     ha='center', va='bottom', fontsize=8)\n",
    "        \n",
    "        plt.show()\n"
   ]
  },
  {
   "cell_type": "code",
   "execution_count": 49,
   "metadata": {},
   "outputs": [],
   "source": [
    "def run():\n",
    "    all_results = {}\n",
    "    \n",
    "    for region in regions:\n",
    "        region_result = simulate_region(region)\n",
    "        all_results[region.id] = region_result\n",
    "        print(region.id)\n",
    "        region_cars = ''\n",
    "        total_cars = 0\n",
    "        for car in region_result:\n",
    "            total_cars += region_result[car]\n",
    "            region_cars += car.id + ': ' + str(region_result[car]) + ' | '\n",
    "        region_cars += 'total: ' + str(total_cars)\n",
    "        print(region_cars)\n",
    "\n",
    "    # plot_car_distribution(all_results)\n",
    "    return all_results"
   ]
  },
  {
   "cell_type": "code",
   "execution_count": 50,
   "metadata": {},
   "outputs": [
    {
     "name": "stdout",
     "output_type": "stream",
     "text": [
      "aldoar\n",
      "low_end: 2621 | low_mid_end: 1404 | mid_end: 550 | mid_high_end: 186 | high_end: 20 | top_end: 1 | total: 4782\n",
      "ramalde\n",
      "low_end: 430 | low_mid_end: 85 | mid_end: 14 | mid_high_end: 2 | high_end: 0 | top_end: 0 | total: 531\n",
      "lordelo\n",
      "low_end: 764 | low_mid_end: 243 | mid_end: 48 | mid_high_end: 9 | high_end: 0 | top_end: 0 | total: 1064\n",
      "paranhos\n",
      "low_end: 564 | low_mid_end: 138 | mid_end: 14 | mid_high_end: 1 | high_end: 0 | top_end: 0 | total: 717\n",
      "centro\n",
      "low_end: 453 | low_mid_end: 110 | mid_end: 11 | mid_high_end: 0 | high_end: 0 | top_end: 0 | total: 574\n",
      "bonfim\n",
      "low_end: 199 | low_mid_end: 32 | mid_end: 3 | mid_high_end: 0 | high_end: 0 | top_end: 0 | total: 234\n",
      "campanha\n",
      "low_end: 38 | low_mid_end: 7 | mid_end: 0 | mid_high_end: 0 | high_end: 0 | top_end: 0 | total: 45\n"
     ]
    },
    {
     "data": {
      "text/plain": [
       "{'aldoar': {<models.car.CarModel at 0x24cdc6e1390>: 2621,\n",
       "  <models.car.CarModel at 0x24cdc3718d0>: 1404,\n",
       "  <models.car.CarModel at 0x24cdc3729b0>: 550,\n",
       "  <models.car.CarModel at 0x24cdc371c00>: 186,\n",
       "  <models.car.CarModel at 0x24cdc371690>: 20,\n",
       "  <models.car.CarModel at 0x24cdc371930>: 1},\n",
       " 'ramalde': {<models.car.CarModel at 0x24cdc6e1390>: 430,\n",
       "  <models.car.CarModel at 0x24cdc3718d0>: 85,\n",
       "  <models.car.CarModel at 0x24cdc3729b0>: 14,\n",
       "  <models.car.CarModel at 0x24cdc371c00>: 2,\n",
       "  <models.car.CarModel at 0x24cdc371690>: 0,\n",
       "  <models.car.CarModel at 0x24cdc371930>: 0},\n",
       " 'lordelo': {<models.car.CarModel at 0x24cdc6e1390>: 764,\n",
       "  <models.car.CarModel at 0x24cdc3718d0>: 243,\n",
       "  <models.car.CarModel at 0x24cdc3729b0>: 48,\n",
       "  <models.car.CarModel at 0x24cdc371c00>: 9,\n",
       "  <models.car.CarModel at 0x24cdc371690>: 0,\n",
       "  <models.car.CarModel at 0x24cdc371930>: 0},\n",
       " 'paranhos': {<models.car.CarModel at 0x24cdc6e1390>: 564,\n",
       "  <models.car.CarModel at 0x24cdc3718d0>: 138,\n",
       "  <models.car.CarModel at 0x24cdc3729b0>: 14,\n",
       "  <models.car.CarModel at 0x24cdc371c00>: 1,\n",
       "  <models.car.CarModel at 0x24cdc371690>: 0,\n",
       "  <models.car.CarModel at 0x24cdc371930>: 0},\n",
       " 'centro': {<models.car.CarModel at 0x24cdc6e1390>: 453,\n",
       "  <models.car.CarModel at 0x24cdc3718d0>: 110,\n",
       "  <models.car.CarModel at 0x24cdc3729b0>: 11,\n",
       "  <models.car.CarModel at 0x24cdc371c00>: 0,\n",
       "  <models.car.CarModel at 0x24cdc371690>: 0,\n",
       "  <models.car.CarModel at 0x24cdc371930>: 0},\n",
       " 'bonfim': {<models.car.CarModel at 0x24cdc6e1390>: 199,\n",
       "  <models.car.CarModel at 0x24cdc3718d0>: 32,\n",
       "  <models.car.CarModel at 0x24cdc3729b0>: 3,\n",
       "  <models.car.CarModel at 0x24cdc371c00>: 0,\n",
       "  <models.car.CarModel at 0x24cdc371690>: 0,\n",
       "  <models.car.CarModel at 0x24cdc371930>: 0},\n",
       " 'campanha': {<models.car.CarModel at 0x24cdc6e1390>: 38,\n",
       "  <models.car.CarModel at 0x24cdc3718d0>: 7,\n",
       "  <models.car.CarModel at 0x24cdc3729b0>: 0,\n",
       "  <models.car.CarModel at 0x24cdc371c00>: 0,\n",
       "  <models.car.CarModel at 0x24cdc371690>: 0,\n",
       "  <models.car.CarModel at 0x24cdc371930>: 0}}"
      ]
     },
     "execution_count": 50,
     "metadata": {},
     "output_type": "execute_result"
    }
   ],
   "source": [
    "run()"
   ]
  }
 ],
 "metadata": {
  "kernelspec": {
   "display_name": "Python 3",
   "language": "python",
   "name": "python3"
  },
  "language_info": {
   "codemirror_mode": {
    "name": "ipython",
    "version": 3
   },
   "file_extension": ".py",
   "mimetype": "text/x-python",
   "name": "python",
   "nbconvert_exporter": "python",
   "pygments_lexer": "ipython3",
   "version": "3.10.10"
  }
 },
 "nbformat": 4,
 "nbformat_minor": 2
}
