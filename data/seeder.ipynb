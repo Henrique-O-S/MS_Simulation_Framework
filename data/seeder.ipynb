{
 "cells": [
  {
   "cell_type": "code",
   "execution_count": 12,
   "metadata": {},
   "outputs": [],
   "source": [
    "import csv\n",
    "import os\n",
    "import random\n",
    "\n",
    "import numpy as np\n",
    "import matplotlib.pyplot as plt"
   ]
  },
  {
   "cell_type": "code",
   "execution_count": 13,
   "metadata": {},
   "outputs": [],
   "source": [
    "def read_region_data(filename, regions):\n",
    "    with open(filename, \"r\") as csvfile:\n",
    "        reader = csv.reader(csvfile, delimiter=\";\")\n",
    "        next(reader) \n",
    "        for row in reader:\n",
    "            region_id, latitude, longitude, avg_pop, driving_perc, avg_m_inc, chargers, traffic = row\n",
    "            latitude = float(latitude.replace(\",\", \".\"))\n",
    "            longitude = float(longitude.replace(\",\", \".\"))\n",
    "            avg_pop = int(avg_pop)\n",
    "            driving_perc = float(driving_perc.replace(\",\", \".\"))\n",
    "            avg_m_inc = float(avg_m_inc.replace(\",\", \".\"))\n",
    "            chargers = int(chargers)\n",
    "            traffic = int(traffic)\n",
    "            regions.append({\n",
    "                \"region_id\": region_id,\n",
    "                \"latitude\": latitude,\n",
    "                \"longitude\": longitude,\n",
    "                \"avg_drivers\": int(avg_pop * driving_perc),\n",
    "                \"avg_income\": avg_m_inc,\n",
    "                \"chargers\": chargers,\n",
    "                \"traffic\": traffic\n",
    "            })"
   ]
  },
  {
   "cell_type": "code",
   "execution_count": 14,
   "metadata": {},
   "outputs": [],
   "source": [
    "def read_car_model_data(filename, cars):\n",
    "    with open(filename, \"r\") as csvfile:\n",
    "        reader = csv.reader(csvfile, delimiter=\";\")\n",
    "        next(reader)\n",
    "        for row in reader:\n",
    "            car_id, autonomy, price = row\n",
    "            autonomy = int(autonomy)\n",
    "            price = int(price)\n",
    "            cars.append({\n",
    "                \"car_id\": car_id,\n",
    "                \"autonomy\": autonomy,\n",
    "                \"price\": price\n",
    "            })"
   ]
  },
  {
   "cell_type": "code",
   "execution_count": 15,
   "metadata": {},
   "outputs": [],
   "source": [
    "region_file = \"regions.csv\"\n",
    "regions = []\n",
    "if os.path.exists(region_file):\n",
    "    read_region_data(region_file, regions)\n",
    "        \n",
    "car_file = \"cars.csv\"\n",
    "car_models = []\n",
    "if os.path.exists(car_file):\n",
    "    read_car_model_data(car_file, car_models)"
   ]
  },
  {
   "cell_type": "code",
   "execution_count": 16,
   "metadata": {},
   "outputs": [],
   "source": [
    "salaryFluctuation = 0.325\n",
    "percWillingToSpend = 0.15\n",
    "probabilityOfBuying = 0.3   # 0.4 for scenario 2"
   ]
  },
  {
   "cell_type": "code",
   "execution_count": 17,
   "metadata": {},
   "outputs": [],
   "source": [
    "def generate_income(avg_income):\n",
    "    sigma = np.sqrt(np.log(1 + (salaryFluctuation ** 2)))\n",
    "    mu = np.log(avg_income) - (sigma**2 / 2)\n",
    "    return np.random.lognormal(mu, sigma)"
   ]
  },
  {
   "cell_type": "code",
   "execution_count": 18,
   "metadata": {},
   "outputs": [],
   "source": [
    "def affordable_cars(income):\n",
    "    affordable = []\n",
    "    for car in car_models:\n",
    "        if car['price'] <= income * percWillingToSpend:\n",
    "            affordable.append(car)\n",
    "    return affordable"
   ]
  },
  {
   "cell_type": "code",
   "execution_count": 19,
   "metadata": {},
   "outputs": [],
   "source": [
    "def simulate_region(region):\n",
    "    avg_income = region['avg_income']\n",
    "    results = {car['car_id']: 0 for car in car_models}\n",
    "    for _ in range(region['avg_drivers']):\n",
    "        income = generate_income(avg_income)\n",
    "        affordable = affordable_cars(income)\n",
    "        if affordable and random.random() < probabilityOfBuying:\n",
    "            chosen_car = random.choice(affordable)\n",
    "            results[chosen_car['car_id']] += 1\n",
    "    return results"
   ]
  },
  {
   "cell_type": "code",
   "execution_count": 20,
   "metadata": {},
   "outputs": [],
   "source": [
    "def plot_car_distribution(all_results):\n",
    "    for region_id, region_result in all_results.items():\n",
    "        car_ids = [str(car.id) for car in region_result.keys()]\n",
    "        totals = list(region_result.values())\n",
    "        plt.figure(figsize=(10, 4))\n",
    "        bars = plt.bar(car_ids, totals, color=['blue', 'green', 'red', 'cyan', 'magenta', 'yellow'])\n",
    "        plt.xlabel('Car Model')\n",
    "        plt.ylabel('Number of Cars Sold')\n",
    "        plt.title(f'Total Electric Cars Sold in {region_id}')\n",
    "        plt.xticks(rotation=45)\n",
    "        plt.tight_layout()\n",
    "        for bar in bars:\n",
    "            height = bar.get_height()\n",
    "            plt.text(bar.get_x() + bar.get_width() / 2, height, f'{height}', \n",
    "                     ha='center', va='bottom', fontsize=8)\n",
    "        plt.show()"
   ]
  },
  {
   "cell_type": "code",
   "execution_count": 21,
   "metadata": {},
   "outputs": [],
   "source": [
    "def run():\n",
    "    total = 0\n",
    "    all_results = {}\n",
    "    for region in regions:\n",
    "        region_result = simulate_region(region)\n",
    "        all_results[region['region_id']] = region_result\n",
    "        print(region['region_id'])\n",
    "        region_cars = ''\n",
    "        total_cars = 0\n",
    "        for car in region_result:\n",
    "            total_cars += region_result[car]\n",
    "            region_cars += car + ': ' + str(region_result[car]) + ' | '\n",
    "        region_cars += 'total: ' + str(total_cars)\n",
    "        total += total_cars\n",
    "        print(region_cars)\n",
    "    print('\\ntotal: ', total)\n",
    "    return all_results"
   ]
  },
  {
   "cell_type": "code",
   "execution_count": 22,
   "metadata": {},
   "outputs": [
    {
     "name": "stdout",
     "output_type": "stream",
     "text": [
      "aldoar\n",
      "low_end: 3441 | low_mid_end: 1962 | mid_end: 662 | mid_high_end: 215 | high_end: 27 | top_end: 0 | total: 6307\n",
      "ramalde\n",
      "low_end: 577 | low_mid_end: 149 | mid_end: 12 | mid_high_end: 0 | high_end: 0 | top_end: 0 | total: 738\n",
      "lordelo\n",
      "low_end: 1055 | low_mid_end: 349 | mid_end: 65 | mid_high_end: 11 | high_end: 1 | top_end: 0 | total: 1481\n",
      "paranhos\n",
      "low_end: 716 | low_mid_end: 154 | mid_end: 14 | mid_high_end: 2 | high_end: 0 | top_end: 0 | total: 886\n",
      "centro\n",
      "low_end: 606 | low_mid_end: 123 | mid_end: 17 | mid_high_end: 2 | high_end: 0 | top_end: 0 | total: 748\n",
      "bonfim\n",
      "low_end: 212 | low_mid_end: 53 | mid_end: 5 | mid_high_end: 0 | high_end: 0 | top_end: 0 | total: 270\n",
      "campanha\n",
      "low_end: 54 | low_mid_end: 7 | mid_end: 0 | mid_high_end: 0 | high_end: 0 | top_end: 0 | total: 61\n",
      "\n",
      "total:  10491\n"
     ]
    },
    {
     "data": {
      "text/plain": [
       "{'aldoar': {'low_end': 3441,\n",
       "  'low_mid_end': 1962,\n",
       "  'mid_end': 662,\n",
       "  'mid_high_end': 215,\n",
       "  'high_end': 27,\n",
       "  'top_end': 0},\n",
       " 'ramalde': {'low_end': 577,\n",
       "  'low_mid_end': 149,\n",
       "  'mid_end': 12,\n",
       "  'mid_high_end': 0,\n",
       "  'high_end': 0,\n",
       "  'top_end': 0},\n",
       " 'lordelo': {'low_end': 1055,\n",
       "  'low_mid_end': 349,\n",
       "  'mid_end': 65,\n",
       "  'mid_high_end': 11,\n",
       "  'high_end': 1,\n",
       "  'top_end': 0},\n",
       " 'paranhos': {'low_end': 716,\n",
       "  'low_mid_end': 154,\n",
       "  'mid_end': 14,\n",
       "  'mid_high_end': 2,\n",
       "  'high_end': 0,\n",
       "  'top_end': 0},\n",
       " 'centro': {'low_end': 606,\n",
       "  'low_mid_end': 123,\n",
       "  'mid_end': 17,\n",
       "  'mid_high_end': 2,\n",
       "  'high_end': 0,\n",
       "  'top_end': 0},\n",
       " 'bonfim': {'low_end': 212,\n",
       "  'low_mid_end': 53,\n",
       "  'mid_end': 5,\n",
       "  'mid_high_end': 0,\n",
       "  'high_end': 0,\n",
       "  'top_end': 0},\n",
       " 'campanha': {'low_end': 54,\n",
       "  'low_mid_end': 7,\n",
       "  'mid_end': 0,\n",
       "  'mid_high_end': 0,\n",
       "  'high_end': 0,\n",
       "  'top_end': 0}}"
      ]
     },
     "execution_count": 22,
     "metadata": {},
     "output_type": "execute_result"
    }
   ],
   "source": [
    "run()"
   ]
  }
 ],
 "metadata": {
  "kernelspec": {
   "display_name": "Python 3",
   "language": "python",
   "name": "python3"
  },
  "language_info": {
   "codemirror_mode": {
    "name": "ipython",
    "version": 3
   },
   "file_extension": ".py",
   "mimetype": "text/x-python",
   "name": "python",
   "nbconvert_exporter": "python",
   "pygments_lexer": "ipython3",
   "version": "3.10.10"
  }
 },
 "nbformat": 4,
 "nbformat_minor": 2
}
