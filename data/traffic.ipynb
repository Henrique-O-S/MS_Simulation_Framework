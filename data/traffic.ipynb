{
 "cells": [
  {
   "cell_type": "code",
   "execution_count": 1,
   "metadata": {},
   "outputs": [],
   "source": [
    "import json\n",
    "import random\n",
    "\n",
    "from collections import defaultdict"
   ]
  },
  {
   "cell_type": "code",
   "execution_count": 25,
   "metadata": {},
   "outputs": [],
   "source": [
    "with open('city_graph.json') as f:\n",
    "    graph = json.load(f)"
   ]
  },
  {
   "cell_type": "code",
   "execution_count": 26,
   "metadata": {},
   "outputs": [
    {
     "name": "stdout",
     "output_type": "stream",
     "text": [
      "aldoar: 3\n",
      "ramalde: 15\n",
      "lordelo: 10\n",
      "paranhos: 14\n",
      "centro: 18\n",
      "bonfim: 7\n",
      "campanha: 5\n"
     ]
    }
   ],
   "source": [
    "traffic = defaultdict(int)\n",
    "for edge in graph[\"edges\"]:\n",
    "    region1, region2, weight = edge\n",
    "    traffic[region1] += weight\n",
    "    traffic[region2] += weight\n",
    "    \n",
    "for region, load in traffic.items():\n",
    "    print(f\"{region}: {load}\")"
   ]
  },
  {
   "cell_type": "code",
   "execution_count": 17,
   "metadata": {},
   "outputs": [],
   "source": [
    "def region_picks(traffic, home_region, current_region, home_factor=30):\n",
    "    regions = traffic.copy()\n",
    "    regions[home_region] = home_factor\n",
    "    if current_region in regions:\n",
    "        del regions[current_region]\n",
    "    remaining_regions = list(regions.keys())\n",
    "    weights = list(regions.values())\n",
    "    return random.choices(remaining_regions, weights=weights, k=100)"
   ]
  },
  {
   "cell_type": "code",
   "execution_count": 21,
   "metadata": {},
   "outputs": [],
   "source": [
    "def destinations_frequency(traffic, home_region, current_region):\n",
    "    region_picks_sum = defaultdict(int)\n",
    "    for _ in range(10):\n",
    "        picks = region_picks(traffic, home_region, current_region)\n",
    "        for region in picks:\n",
    "            region_picks_sum[region] += 1\n",
    "    print(\"Home:\", home_region)\n",
    "    print(\"Current:\", current_region)\n",
    "    print(\"\\nDestination frequency:\")\n",
    "    for region, count in sorted(region_picks_sum.items(), key=lambda x: x[1], reverse=True):\n",
    "        print(f\"{region}: {count}\")"
   ]
  },
  {
   "cell_type": "code",
   "execution_count": 23,
   "metadata": {},
   "outputs": [
    {
     "name": "stdout",
     "output_type": "stream",
     "text": [
      "Home: bonfim\n",
      "Current: campanha\n",
      "\n",
      "Destination frequency:\n",
      "bonfim: 337\n",
      "centro: 197\n",
      "paranhos: 179\n",
      "ramalde: 154\n",
      "lordelo: 100\n",
      "aldoar: 33\n"
     ]
    }
   ],
   "source": [
    "home = 'bonfim'\n",
    "current = 'campanha'\n",
    "\n",
    "destinations_frequency(traffic, home, current)"
   ]
  }
 ],
 "metadata": {
  "kernelspec": {
   "display_name": "Python 3",
   "language": "python",
   "name": "python3"
  },
  "language_info": {
   "codemirror_mode": {
    "name": "ipython",
    "version": 3
   },
   "file_extension": ".py",
   "mimetype": "text/x-python",
   "name": "python",
   "nbconvert_exporter": "python",
   "pygments_lexer": "ipython3",
   "version": "3.10.10"
  }
 },
 "nbformat": 4,
 "nbformat_minor": 2
}
