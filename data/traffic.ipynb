{
 "cells": [
  {
   "cell_type": "code",
   "execution_count": 54,
   "metadata": {},
   "outputs": [],
   "source": [
    "# import libraries\n",
    "\n",
    "import random"
   ]
  },
  {
   "cell_type": "code",
   "execution_count": 55,
   "metadata": {},
   "outputs": [
    {
     "name": "stdout",
     "output_type": "stream",
     "text": [
      "centro: 395\n",
      "ramalde: 270\n",
      "lordelo: 150\n",
      "paranhos: 80\n",
      "campanha: 45\n",
      "bonfim: 40\n",
      "aldoar: 25\n"
     ]
    }
   ],
   "source": [
    "weights = {\n",
    "    \"aldoar\": 450_000,\n",
    "    \"ramalde\": 4_446_000,\n",
    "    \"lordelo\": 2_436_000,\n",
    "    \"paranhos\": 1_288_000,\n",
    "    \"centro\": 6_498_000,\n",
    "    \"bonfim\": 644_000,\n",
    "    \"campanha\": 750_000\n",
    "}\n",
    "\n",
    "def simplify_weights(weights, scale_target=1000):\n",
    "    total = sum(weights.values())\n",
    "    scale_factor = scale_target / total\n",
    "    scaled_weights = {region: round(value * scale_factor / 5) * 5 for region, value in weights.items()}\n",
    "    unique_values = set()\n",
    "    adjusted_weights = {}\n",
    "    for region, value in sorted(scaled_weights.items(), key=lambda x: -x[1]):\n",
    "        while value in unique_values:\n",
    "            value += 5  \n",
    "        unique_values.add(value)\n",
    "        adjusted_weights[region] = value\n",
    "    return adjusted_weights\n",
    "\n",
    "traffic = simplify_weights(weights)\n",
    "for region, value in traffic.items():\n",
    "    print(f\"{region}: {value}\")\n"
   ]
  },
  {
   "cell_type": "code",
   "execution_count": 58,
   "metadata": {},
   "outputs": [],
   "source": [
    "def select_region(traffic, home_region, current_region, home_factor=40):\n",
    "    '''\n",
    "    Select a region to move to based on the traffic load of each region.\n",
    "    \n",
    "    Parameters:\n",
    "        traffic (dict): A dictionary mapping region names to traffic loads.\n",
    "        home_region (str): The name of the region where the agent lives.\n",
    "        current_region (str): The name of the region where the agent currently is.\n",
    "        home_factor (int): A factor to increase the traffic load of the home region.\n",
    "        \n",
    "    Returns:\n",
    "        str: The name of the selected region.\n",
    "    '''\n",
    "    regions = traffic.copy()\n",
    "    regions[home_region] = home_factor\n",
    "    if current_region in regions:\n",
    "        del regions[current_region]\n",
    "    remaining_regions = list(regions.keys())\n",
    "    weights = list(regions.values())\n",
    "    print(\"Selecting from regions:\")\n",
    "    for i in range(len(remaining_regions)):\n",
    "        print(f\"{remaining_regions[i]}: {weights[i]}\")\n",
    "    selected_region = random.choices(remaining_regions, weights=weights, k=50)\n",
    "    return selected_region"
   ]
  },
  {
   "cell_type": "code",
   "execution_count": 61,
   "metadata": {},
   "outputs": [
    {
     "name": "stdout",
     "output_type": "stream",
     "text": [
      "Selecting from regions:\n",
      "centro: 395\n",
      "lordelo: 150\n",
      "paranhos: 80\n",
      "campanha: 45\n",
      "bonfim: 40\n",
      "aldoar: 40\n",
      "\n",
      "Selected region: ['centro', 'centro', 'paranhos', 'centro', 'centro', 'centro', 'lordelo', 'lordelo', 'lordelo', 'lordelo', 'centro', 'centro', 'centro', 'centro', 'campanha', 'lordelo', 'lordelo', 'paranhos', 'centro', 'lordelo', 'paranhos', 'centro', 'centro', 'centro', 'centro', 'centro', 'bonfim', 'paranhos', 'lordelo', 'centro', 'centro', 'centro', 'centro', 'lordelo', 'centro', 'aldoar', 'centro', 'paranhos', 'centro', 'centro', 'centro', 'aldoar', 'lordelo', 'centro', 'bonfim', 'centro', 'centro', 'aldoar', 'centro', 'lordelo']\n"
     ]
    }
   ],
   "source": [
    "# test the function\n",
    "\n",
    "home_region = 'aldoar'\n",
    "current_region = 'ramalde'\n",
    "\n",
    "selected_region = select_region(traffic, home_region, current_region)\n",
    "print(\"\\nSelected region:\", selected_region)"
   ]
  }
 ],
 "metadata": {
  "kernelspec": {
   "display_name": "Python 3",
   "language": "python",
   "name": "python3"
  },
  "language_info": {
   "codemirror_mode": {
    "name": "ipython",
    "version": 3
   },
   "file_extension": ".py",
   "mimetype": "text/x-python",
   "name": "python",
   "nbconvert_exporter": "python",
   "pygments_lexer": "ipython3",
   "version": "3.10.10"
  }
 },
 "nbformat": 4,
 "nbformat_minor": 2
}
