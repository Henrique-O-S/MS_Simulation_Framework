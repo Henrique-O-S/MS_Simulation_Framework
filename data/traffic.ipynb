{
 "cells": [
  {
   "cell_type": "code",
   "execution_count": 1,
   "metadata": {},
   "outputs": [],
   "source": [
    "# import libraries\n",
    "\n",
    "import json\n",
    "import random\n",
    "\n",
    "from collections import defaultdict"
   ]
  },
  {
   "cell_type": "code",
   "execution_count": 9,
   "metadata": {},
   "outputs": [],
   "source": [
    "# load graph data\n",
    "\n",
    "with open('city_graph.json') as f:\n",
    "    graph = json.load(f)"
   ]
  },
  {
   "cell_type": "code",
   "execution_count": 3,
   "metadata": {},
   "outputs": [
    {
     "name": "stdout",
     "output_type": "stream",
     "text": [
      "aldoar: 2\n",
      "ramalde: 10\n",
      "lordelo: 7\n",
      "paranhos: 9\n",
      "centro: 11\n",
      "bonfim: 4\n",
      "campanha: 3\n"
     ]
    }
   ],
   "source": [
    "# calculate traffic for each region\n",
    "\n",
    "traffic = defaultdict(int)\n",
    "for edge in graph[\"edges\"]:\n",
    "    region1, region2, weight = edge\n",
    "    traffic[region1] += weight\n",
    "    traffic[region2] += weight\n",
    "    \n",
    "for region, load in traffic.items():\n",
    "    print(f\"{region}: {load}\")"
   ]
  },
  {
   "cell_type": "code",
   "execution_count": 4,
   "metadata": {},
   "outputs": [],
   "source": [
    "def select_region(traffic, home_region, current_region, home_factor=30):\n",
    "    '''\n",
    "    Select a region to move to based on the traffic load of each region.\n",
    "    \n",
    "    Parameters:\n",
    "        traffic (dict): A dictionary mapping region names to traffic loads.\n",
    "        home_region (str): The name of the region where the agent lives.\n",
    "        current_region (str): The name of the region where the agent currently is.\n",
    "        home_factor (int): A factor to increase the traffic load of the home region.\n",
    "        \n",
    "    Returns:\n",
    "        str: The name of the selected region.\n",
    "    '''\n",
    "    regions = traffic.copy()\n",
    "    regions[home_region] = home_factor\n",
    "    if current_region in regions:\n",
    "        del regions[current_region]\n",
    "    remaining_regions = list(regions.keys())\n",
    "    weights = list(regions.values())\n",
    "    print(\"Selecting from regions:\")\n",
    "    for i in range(len(remaining_regions)):\n",
    "        print(f\"{remaining_regions[i]}: {weights[i]}\")\n",
    "    selected_region = random.choices(remaining_regions, weights=weights, k=1)[0]\n",
    "    return selected_region"
   ]
  },
  {
   "cell_type": "code",
   "execution_count": 8,
   "metadata": {},
   "outputs": [
    {
     "name": "stdout",
     "output_type": "stream",
     "text": [
      "Selecting from regions:\n",
      "aldoar: 30\n",
      "lordelo: 7\n",
      "paranhos: 9\n",
      "centro: 11\n",
      "bonfim: 4\n",
      "campanha: 3\n",
      "\n",
      "Selected region: aldoar\n"
     ]
    }
   ],
   "source": [
    "# test the function\n",
    "\n",
    "home_region = 'aldoar'\n",
    "current_region = 'ramalde'\n",
    "\n",
    "selected_region = select_region(traffic, home_region, current_region)\n",
    "print(\"\\nSelected region:\", selected_region)"
   ]
  }
 ],
 "metadata": {
  "kernelspec": {
   "display_name": "Python 3",
   "language": "python",
   "name": "python3"
  },
  "language_info": {
   "codemirror_mode": {
    "name": "ipython",
    "version": 3
   },
   "file_extension": ".py",
   "mimetype": "text/x-python",
   "name": "python",
   "nbconvert_exporter": "python",
   "pygments_lexer": "ipython3",
   "version": "3.10.10"
  }
 },
 "nbformat": 4,
 "nbformat_minor": 2
}
